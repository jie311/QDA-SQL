{
 "cells": [
  {
   "cell_type": "code",
   "execution_count": 5,
   "id": "d205c80c-2618-459e-8d2f-b663f5d6272a",
   "metadata": {},
   "outputs": [
    {
     "name": "stderr",
     "output_type": "stream",
     "text": [
      "100%|███████████████████████████████████████████████████████████████████████████████████████████| 2458/2458 [00:00<00:00, 65894.56it/s]\n"
     ]
    }
   ],
   "source": [
    "#读取cosql真实数据\n",
    "import json\n",
    "from tqdm import tqdm\n",
    "\n",
    "def determine_user_type(types):\n",
    "    if 'INFORM_SQL' in types or 'INFER_SQL' in types:\n",
    "        return 'INFORM_SQL'\n",
    "    elif 'THANK_YOU' in types  or 'GOOD_BYE' in types:\n",
    "        return 'IMPROPER'\n",
    "    elif 'CANNOT_ANSWER' in types or 'NOT_RELATED' in types:\n",
    "        return 'CANNOT_ANSWER'\n",
    "    elif 'CANNOT_UNDERSTAND' in types or 'AMBIGUOUS' in types:\n",
    "        return 'AMBIGUOUS'\n",
    "    else:\n",
    "        return types[0] if types else 'UNKNOWN'\n",
    "        \n",
    "\n",
    "def determine_nonuser_type(types):\n",
    "    if 'CLARIFYL' in types:\n",
    "        return 'CLARIFY'\n",
    "    elif 'CONFIRM_SQL' in types:\n",
    "        return 'CONFIRM_SQL'\n",
    "    else:\n",
    "        return types[0] if types else 'UNKNOWN'  # 如果types为空，返回'UNKNOWN'\n",
    "\n",
    "# 读取原始JSON文件\n",
    "with open('datasets/cosql_dataset/cosql_all_info_dialogs.json', 'r', encoding='utf-8') as file:\n",
    "    data = json.load(file)\n",
    "\n",
    "# 提取每一项的特定字段\n",
    "extracted_data = []\n",
    "for item in tqdm(data.values()):\n",
    "    # 遍历turns数组\n",
    "    turns = []\n",
    "    temp_turn = {'isUser': False, 'text': '', 'query': '', 'result': [], 'type': ''}  # 用于合并非用户轮次的临时存储\n",
    "    for turn in item.get('turns', []):\n",
    "        if turn.get('isUser'):\n",
    "            # 用户轮次\n",
    "            user_type = determine_user_type(turn.get('label', []))  # 处理type字段\n",
    "            # 如果当前轮次是用户轮次，先处理之前累积的非用户轮次\n",
    "            if temp_turn['query'] or temp_turn['result'] or temp_turn['text']:\n",
    "                # 确保至少有查询、结果或文本才添加\n",
    "                turns.append(temp_turn)\n",
    "                temp_turn = {'isUser': False, 'text': '', 'query': '', 'result': [], 'type': ''}  # 重置临时存储\n",
    "            # 添加用户轮次\n",
    "            turns.append({\n",
    "                'isUser': True,\n",
    "                'text': turn.get('text'),\n",
    "                'type': user_type\n",
    "            })\n",
    "        else:\n",
    "            # 非用户轮次\n",
    "            nonuser_type = determine_nonuser_type(turn.get('label', []))  # 处理type字段\n",
    "            if turn.get('isSql'):\n",
    "                temp_turn['result'].append(turn.get('sql_result'))\n",
    "                temp_turn['query'] = turn.get('rawSql')  # 假设每个非用户轮次只有一个查询\n",
    "            elif 'label' in turn:  # 仅保存有type字段的非用户轮次\n",
    "                temp_turn['text'] = turn.get('text')  # 保存isSql为false的text\n",
    "                temp_turn['type'] = nonuser_type  # 保存处理后的type字段\n",
    "\n",
    "    # 确保对话末尾的非用户轮次也被添加\n",
    "    if temp_turn['query'] or temp_turn['result'] or (temp_turn['text'] and temp_turn['type']):\n",
    "        turns.append(temp_turn)\n",
    "    \n",
    "    # 创建包含db_id和处理后的turns的新字典\n",
    "    extracted_item = {\n",
    "        'db_name': item.get('db_id'),\n",
    "        'turns': turns\n",
    "    }\n",
    "    extracted_data.append(extracted_item)\n",
    "\n",
    "# 将提取的数据保存到新的JSON文件\n",
    "with open('cosql_real.json', 'w', encoding='utf-8') as new_file:\n",
    "    json.dump(extracted_data, new_file, ensure_ascii=False, indent=4)\n"
   ]
  }
 ],
 "metadata": {
  "kernelspec": {
   "display_name": "Python 3 (ipykernel)",
   "language": "python",
   "name": "python3"
  },
  "language_info": {
   "codemirror_mode": {
    "name": "ipython",
    "version": 3
   },
   "file_extension": ".py",
   "mimetype": "text/x-python",
   "name": "python",
   "nbconvert_exporter": "python",
   "pygments_lexer": "ipython3",
   "version": "3.10.13"
  }
 },
 "nbformat": 4,
 "nbformat_minor": 5
}
